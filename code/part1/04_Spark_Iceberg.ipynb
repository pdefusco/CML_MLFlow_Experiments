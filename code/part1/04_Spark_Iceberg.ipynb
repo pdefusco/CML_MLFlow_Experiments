{
 "cells": [
  {
   "cell_type": "code",
   "execution_count": 9,
   "id": "26632e3b-5fd5-456b-92c9-a80f353bfd4e",
   "metadata": {},
   "outputs": [
    {
     "name": "stdout",
     "output_type": "stream",
     "text": [
      "Requirement already satisfied: pandas in /home/cdsw/.local/lib/python3.7/site-packages (from -r /home/cdsw/requirements.txt (line 1)) (1.3.5)\n",
      "Requirement already satisfied: scikit-learn in /home/cdsw/.local/lib/python3.7/site-packages (from -r /home/cdsw/requirements.txt (line 2)) (1.0.2)\n",
      "Requirement already satisfied: PyArrow in /home/cdsw/.local/lib/python3.7/site-packages (from -r /home/cdsw/requirements.txt (line 3)) (11.0.0)\n",
      "Requirement already satisfied: python-dateutil>=2.7.3 in /usr/local/lib/python3.7/site-packages (from pandas->-r /home/cdsw/requirements.txt (line 1)) (2.8.2)\n",
      "Requirement already satisfied: pytz>=2017.3 in /usr/local/lib/python3.7/site-packages (from pandas->-r /home/cdsw/requirements.txt (line 1)) (2021.1)\n",
      "Requirement already satisfied: numpy>=1.17.3 in /usr/local/lib/python3.7/site-packages (from pandas->-r /home/cdsw/requirements.txt (line 1)) (1.21.6)\n",
      "Requirement already satisfied: six>=1.5 in /usr/local/lib/python3.7/site-packages (from python-dateutil>=2.7.3->pandas->-r /home/cdsw/requirements.txt (line 1)) (1.15.0)\n",
      "Requirement already satisfied: scipy>=1.1.0 in /home/cdsw/.local/lib/python3.7/site-packages (from scikit-learn->-r /home/cdsw/requirements.txt (line 2)) (1.7.3)\n",
      "Requirement already satisfied: threadpoolctl>=2.0.0 in /home/cdsw/.local/lib/python3.7/site-packages (from scikit-learn->-r /home/cdsw/requirements.txt (line 2)) (3.1.0)\n",
      "Requirement already satisfied: joblib>=0.11 in /home/cdsw/.local/lib/python3.7/site-packages (from scikit-learn->-r /home/cdsw/requirements.txt (line 2)) (1.2.0)\n"
     ]
    }
   ],
   "source": [
    "!pip3 install -r ~/requirements.txt"
   ]
  },
  {
   "cell_type": "code",
   "execution_count": 15,
   "id": "dc112bb6-2be3-412a-a2d2-89d17632be5b",
   "metadata": {},
   "outputs": [
    {
     "ename": "ImportError",
     "evalue": "cannot import name 'ModelSignature' from 'mlflow.models' (/opt/cmladdons/python/site-packages/mlflow/models/__init__.py)",
     "output_type": "error",
     "traceback": [
      "\u001b[0;31m---------------------------------------------------------------------------\u001b[0m",
      "\u001b[0;31mImportError\u001b[0m                               Traceback (most recent call last)",
      "\u001b[0;32m/tmp/ipykernel_218/3021440715.py\u001b[0m in \u001b[0;36m<module>\u001b[0;34m\u001b[0m\n\u001b[0;32m----> 1\u001b[0;31m \u001b[0;32mimport\u001b[0m \u001b[0mmlflow\u001b[0m\u001b[0;34m.\u001b[0m\u001b[0mspark\u001b[0m\u001b[0;34m\u001b[0m\u001b[0;34m\u001b[0m\u001b[0m\n\u001b[0m",
      "\u001b[0;32m/opt/cmladdons/python/site-packages/mlflow/spark.py\u001b[0m in \u001b[0;36m<module>\u001b[0;34m\u001b[0m\n\u001b[1;32m     28\u001b[0m \u001b[0;34m\u001b[0m\u001b[0m\n\u001b[1;32m     29\u001b[0m \u001b[0;32mimport\u001b[0m \u001b[0mmlflow\u001b[0m\u001b[0;34m\u001b[0m\u001b[0;34m\u001b[0m\u001b[0m\n\u001b[0;32m---> 30\u001b[0;31m \u001b[0;32mfrom\u001b[0m \u001b[0mmlflow\u001b[0m \u001b[0;32mimport\u001b[0m \u001b[0mpyfunc\u001b[0m\u001b[0;34m,\u001b[0m \u001b[0mmleap\u001b[0m\u001b[0;34m\u001b[0m\u001b[0;34m\u001b[0m\u001b[0m\n\u001b[0m\u001b[1;32m     31\u001b[0m \u001b[0;32mfrom\u001b[0m \u001b[0mmlflow\u001b[0m\u001b[0;34m.\u001b[0m\u001b[0mexceptions\u001b[0m \u001b[0;32mimport\u001b[0m \u001b[0mMlflowException\u001b[0m\u001b[0;34m\u001b[0m\u001b[0;34m\u001b[0m\u001b[0m\n\u001b[1;32m     32\u001b[0m \u001b[0;32mfrom\u001b[0m \u001b[0mmlflow\u001b[0m\u001b[0;34m.\u001b[0m\u001b[0mmodels\u001b[0m \u001b[0;32mimport\u001b[0m \u001b[0mModel\u001b[0m\u001b[0;34m\u001b[0m\u001b[0;34m\u001b[0m\u001b[0m\n",
      "\u001b[0;32m/opt/cmladdons/python/site-packages/mlflow/pyfunc/__init__.py\u001b[0m in \u001b[0;36m<module>\u001b[0;34m\u001b[0m\n\u001b[1;32m    226\u001b[0m \u001b[0;32mimport\u001b[0m \u001b[0mmlflow\u001b[0m\u001b[0;34m\u001b[0m\u001b[0;34m\u001b[0m\u001b[0m\n\u001b[1;32m    227\u001b[0m \u001b[0;32mimport\u001b[0m \u001b[0mmlflow\u001b[0m\u001b[0;34m.\u001b[0m\u001b[0mpyfunc\u001b[0m\u001b[0;34m.\u001b[0m\u001b[0mmodel\u001b[0m\u001b[0;34m\u001b[0m\u001b[0;34m\u001b[0m\u001b[0m\n\u001b[0;32m--> 228\u001b[0;31m \u001b[0;32mfrom\u001b[0m \u001b[0mmlflow\u001b[0m\u001b[0;34m.\u001b[0m\u001b[0mmodels\u001b[0m \u001b[0;32mimport\u001b[0m \u001b[0mModel\u001b[0m\u001b[0;34m,\u001b[0m \u001b[0mModelSignature\u001b[0m\u001b[0;34m,\u001b[0m \u001b[0mModelInputExample\u001b[0m\u001b[0;34m\u001b[0m\u001b[0;34m\u001b[0m\u001b[0m\n\u001b[0m\u001b[1;32m    229\u001b[0m \u001b[0;32mfrom\u001b[0m \u001b[0mmlflow\u001b[0m\u001b[0;34m.\u001b[0m\u001b[0mmodels\u001b[0m\u001b[0;34m.\u001b[0m\u001b[0mmodel\u001b[0m \u001b[0;32mimport\u001b[0m \u001b[0mMLMODEL_FILE_NAME\u001b[0m\u001b[0;34m\u001b[0m\u001b[0;34m\u001b[0m\u001b[0m\n\u001b[1;32m    230\u001b[0m \u001b[0;32mfrom\u001b[0m \u001b[0mmlflow\u001b[0m\u001b[0;34m.\u001b[0m\u001b[0mmodels\u001b[0m\u001b[0;34m.\u001b[0m\u001b[0mutils\u001b[0m \u001b[0;32mimport\u001b[0m \u001b[0m_save_example\u001b[0m\u001b[0;34m\u001b[0m\u001b[0;34m\u001b[0m\u001b[0m\n",
      "\u001b[0;31mImportError\u001b[0m: cannot import name 'ModelSignature' from 'mlflow.models' (/opt/cmladdons/python/site-packages/mlflow/models/__init__.py)"
     ]
    }
   ],
   "source": [
    "import mlflow.spark"
   ]
  },
  {
   "cell_type": "code",
   "execution_count": 10,
   "id": "52af5015-3f0f-43dd-b7fb-b5301d2c781f",
   "metadata": {},
   "outputs": [],
   "source": [
    "import os\n",
    "import warnings\n",
    "import sys\n",
    "import mlflow\n",
    "import pandas as pd\n",
    "import numpy as np\n",
    "from sklearn.metrics import mean_squared_error, mean_absolute_error, r2_score\n",
    "from sklearn.model_selection import train_test_split\n",
    "from sklearn.linear_model import ElasticNet\n",
    "import logging\n",
    "import json\n",
    "import shutil\n",
    "import datetime\n",
    "from pyspark.sql import SparkSession\n",
    "from pyspark.ml import Pipeline\n",
    "from pyspark.ml.classification import LogisticRegression\n",
    "from pyspark.ml.feature import HashingTF, Tokenizer\n",
    "import cml.data_v1 as cmldata"
   ]
  },
  {
   "cell_type": "code",
   "execution_count": 13,
   "id": "d95bfea5-eec9-4ef7-a26b-b5928deebd4f",
   "metadata": {},
   "outputs": [
    {
     "name": "stderr",
     "output_type": "stream",
     "text": [
      "Setting spark.hadoop.yarn.resourcemanager.principal to pauldefusco\n"
     ]
    }
   ],
   "source": [
    "CONNECTION_NAME = \"se-aw-mdl\"\n",
    "\n",
    "conn = cmldata.get_connection(CONNECTION_NAME)\n",
    "spark = conn.get_spark_session()"
   ]
  },
  {
   "cell_type": "code",
   "execution_count": 14,
   "id": "4378e42e-8b7a-4687-a98b-c4d765a13289",
   "metadata": {},
   "outputs": [],
   "source": [
    "training_df = spark.createDataFrame(\n",
    "[\n",
    "    (\"0\", \"a b c d e spark\", 1.0),\n",
    "    (\"1\", \"b d\", 0.0),\n",
    "    (\"2\", \"spark f g h\", 1.0),\n",
    "    (\"3\", \"hadoop mapreduce\", 0.0),\n",
    "],\n",
    "[\"id\", \"text\", \"label\"],\n",
    ")"
   ]
  },
  {
   "cell_type": "code",
   "execution_count": null,
   "id": "2be8d293-25d5-453d-a3af-c4a41f1a24ee",
   "metadata": {},
   "outputs": [],
   "source": [
    "#mlflow.end_run()\n",
    "\n",
    "def exp1():\n",
    "\n",
    "\n",
    "\n",
    "    mlflow.set_experiment(\"sparkml-experiment\")\n",
    "\n",
    "    ##EXPERIMENT 1\n",
    "\n",
    "    training_df.writeTo(\"spark_catalog.default.training\").using(\"iceberg\").createOrReplace()\n",
    "    spark.sql(\"SELECT * FROM spark_catalog.default.training\").show()\n",
    "\n",
    "    ### SHOW TABLE HISTORY AND SNAPSHOTS\n",
    "    spark.read.format(\"iceberg\").load(\"spark_catalog.default.training.history\").show(20, False)\n",
    "    spark.read.format(\"iceberg\").load(\"spark_catalog.default.training.snapshots\").show(20, False)\n",
    "\n",
    "    snapshot_id = spark.read.format(\"iceberg\").load(\"spark_catalog.default.training.snapshots\").select(\"snapshot_id\").tail(1)[0][0]\n",
    "    committed_at = spark.read.format(\"iceberg\").load(\"spark_catalog.default.training.snapshots\").select(\"committed_at\").tail(1)[0][0].strftime('%m/%d/%Y')\n",
    "    parent_id = spark.read.format(\"iceberg\").load(\"spark_catalog.default.training.snapshots\").select(\"parent_id\").tail(1)[0][0]\n",
    "\n",
    "    ##EXPERIMENT 2\n",
    "\n",
    "    ### ICEBERG INSERT DATA - APPEND FROM DATAFRAME\n",
    "\n",
    "    # PRE-INSERT\n",
    "    #spark.sql(\"SELECT * FROM spark_catalog.default.training\").show()\n",
    "\n",
    "    #temp_df = spark.sql(\"SELECT * FROM spark_catalog.default.training\")\n",
    "    #temp_df.writeTo(\"spark_catalog.default.training\").append()\n",
    "    #training_df = spark.sql(\"SELECT * FROM spark_catalog.default.training\")\n",
    "\n",
    "    # PROST-INSERT\n",
    "    #spark.sql(\"SELECT * FROM spark_catalog.default.training\").show()\n",
    "\n",
    "    #spark.read.format(\"iceberg\").load(\"spark_catalog.default.training.history\").show(20, False)\n",
    "    #spark.read.format(\"iceberg\").load(\"spark_catalog.default.training.snapshots\").show(20, False)\n",
    "\n",
    "    #snapshot_id = spark.read.format(\"iceberg\").load(\"spark_catalog.default.training.snapshots\").select(\"snapshot_id\").tail(1)[0][0]\n",
    "    #committed_at = spark.read.format(\"iceberg\").load(\"spark_catalog.default.training.snapshots\").select(\"committed_at\").tail(1)[0][0].strftime('%m/%d/%Y')\n",
    "    #parent_id = spark.read.format(\"iceberg\").load(\"spark_catalog.default.training.snapshots\").select(\"parent_id\").tail(1)[0][0]\n",
    "\n",
    "    ##EXPERIMENT 3\n",
    "\n",
    "    #Replace Snapshot ID here\n",
    "    #snapshot_id = 2693814795059767550\n",
    "    #training_df = spark.read.option(\"snapshot-id\", snapshot_id).table(\"spark_catalog.default.training\")\n",
    "\n",
    "    #committed_at = spark.sql(\"SELECT committed_at FROM spark_catalog.default.training.snapshots WHERE snapshot_id = {};\".format(snapshot_id)).collect()[0][0].strftime('%m/%d/%Y')\n",
    "    #parent_id = str(spark.sql(\"SELECT parent_id FROM spark_catalog.default.training.snapshots WHERE snapshot_id = {};\".format(snapshot_id)).tail(1)[0][0])\n",
    "\n",
    "    tags = {\n",
    "      \"iceberg_snapshot_id\": snapshot_id,\n",
    "      \"iceberg_snapshot_committed_at\": committed_at,\n",
    "      \"iceberg_parent_id\": parent_id,\n",
    "      \"row_count\": training_df.count()\n",
    "    }\n",
    "\n",
    "    ### MLFLOW EXPERIMENT RUN\n",
    "    with mlflow.start_run() as run:\n",
    "\n",
    "        maxIter=10\n",
    "        regParam=0.001\n",
    "\n",
    "        tokenizer = Tokenizer(inputCol=\"text\", outputCol=\"words\")\n",
    "        hashingTF = HashingTF(inputCol=tokenizer.getOutputCol(), outputCol=\"features\")\n",
    "        lr = LogisticRegression(maxIter=maxIter, regParam=regParam)\n",
    "        pipeline = Pipeline(stages=[tokenizer, hashingTF, lr])\n",
    "        model = pipeline.fit(training_df)\n",
    "\n",
    "        mlflow.log_param(\"maxIter\", maxIter)\n",
    "        mlflow.log_param(\"regParam\", regParam)\n",
    "\n",
    "        #prediction = model.transform(test)\n",
    "        mlflow.set_tags(tags)\n",
    "\n",
    "    mlflow.end_run()\n",
    "\n",
    "\n",
    "\n",
    "    #spark.stop()\n"
   ]
  }
 ],
 "metadata": {
  "kernelspec": {
   "display_name": "Python 3 (ipykernel)",
   "language": "python",
   "name": "python3"
  },
  "language_info": {
   "codemirror_mode": {
    "name": "ipython",
    "version": 3
   },
   "file_extension": ".py",
   "mimetype": "text/x-python",
   "name": "python",
   "nbconvert_exporter": "python",
   "pygments_lexer": "ipython3",
   "version": "3.7.13"
  }
 },
 "nbformat": 4,
 "nbformat_minor": 5
}
